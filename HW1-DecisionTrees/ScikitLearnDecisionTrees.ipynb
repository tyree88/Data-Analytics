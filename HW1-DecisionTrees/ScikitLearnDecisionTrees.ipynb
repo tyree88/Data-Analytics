{
 "cells": [
  {
   "cell_type": "markdown",
   "metadata": {},
   "source": [
    "# Assignment 1 : Decision Tress using `scikit-learn`\n",
    "\n",
    "Scikit-learn provides a range of supervised and unsupervised learning algorithms via a consistent interface in Python. In this assigment you'll explore how to train decision trees using the `scikit-learn` library. The scikit-learn documentation can be found [here](http://scikit-learn.org/stable/documentation.html).\n",
    "\n",
    "In this assignment we'll attempt to classify patients as either having or not having diabetic retinopathy. For this task we'll be using the Diabetic Retinopathy data set, which contains 1151 instances and 20 attributes (some categorical, some continuous). You can find additional details about the dataset [here](http://archive.ics.uci.edu/ml/datasets/Diabetic+Retinopathy+Debrecen+Data+Set)."
   ]
  },
  {
   "cell_type": "code",
   "execution_count": 17,
   "metadata": {},
   "outputs": [],
   "source": [
    "#You may add additional import if you want\n",
    "import warnings\n",
    "warnings.simplefilter(\"ignore\")\n",
    "import pandas as pd\n",
    "import numpy as np\n",
    "import sklearn as sk\n",
    "import matplotlib.pyplot as plt\n",
    "from sklearn.preprocessing import StandardScaler\n",
    "from sklearn.model_selection import train_test_split\n",
    "import time"
   ]
  },
  {
   "cell_type": "code",
   "execution_count": 18,
   "metadata": {},
   "outputs": [],
   "source": [
    "%matplotlib inline"
   ]
  },
  {
   "cell_type": "code",
   "execution_count": 19,
   "metadata": {},
   "outputs": [
    {
     "name": "stderr",
     "output_type": "stream",
     "text": [
      "ERROR:root:Internal Python error in the inspect module.\n",
      "Below is the traceback from this internal error.\n",
      "\n"
     ]
    },
    {
     "name": "stdout",
     "output_type": "stream",
     "text": [
      "Traceback (most recent call last):\n",
      "  File \"/anaconda3/lib/python3.6/site-packages/IPython/core/interactiveshell.py\", line 2963, in run_code\n",
      "    exec(code_obj, self.user_global_ns, self.user_ns)\n",
      "  File \"<ipython-input-19-ed5f9f3476b3>\", line 21, in <module>\n",
      "    data = pd.read_csv(\"messidor_features.txt\", names = col_names)\n",
      "  File \"/anaconda3/lib/python3.6/site-packages/pandas/io/parsers.py\", line 678, in parser_f\n",
      "    return _read(filepath_or_buffer, kwds)\n",
      "  File \"/anaconda3/lib/python3.6/site-packages/pandas/io/parsers.py\", line 440, in _read\n",
      "    parser = TextFileReader(filepath_or_buffer, **kwds)\n",
      "  File \"/anaconda3/lib/python3.6/site-packages/pandas/io/parsers.py\", line 787, in __init__\n",
      "    self._make_engine(self.engine)\n",
      "  File \"/anaconda3/lib/python3.6/site-packages/pandas/io/parsers.py\", line 1014, in _make_engine\n",
      "    self._engine = CParserWrapper(self.f, **self.options)\n",
      "  File \"/anaconda3/lib/python3.6/site-packages/pandas/io/parsers.py\", line 1708, in __init__\n",
      "    self._reader = parsers.TextReader(src, **kwds)\n",
      "  File \"pandas/_libs/parsers.pyx\", line 384, in pandas._libs.parsers.TextReader.__cinit__\n",
      "  File \"pandas/_libs/parsers.pyx\", line 695, in pandas._libs.parsers.TextReader._setup_parser_source\n",
      "FileNotFoundError: File b'messidor_features.txt' does not exist\n",
      "\n",
      "During handling of the above exception, another exception occurred:\n",
      "\n",
      "Traceback (most recent call last):\n",
      "  File \"/anaconda3/lib/python3.6/site-packages/IPython/core/interactiveshell.py\", line 1863, in showtraceback\n",
      "    stb = value._render_traceback_()\n",
      "AttributeError: 'FileNotFoundError' object has no attribute '_render_traceback_'\n",
      "\n",
      "During handling of the above exception, another exception occurred:\n",
      "\n",
      "Traceback (most recent call last):\n",
      "  File \"/anaconda3/lib/python3.6/site-packages/IPython/core/ultratb.py\", line 1095, in get_records\n",
      "    return _fixed_getinnerframes(etb, number_of_lines_of_context, tb_offset)\n",
      "  File \"/anaconda3/lib/python3.6/site-packages/IPython/core/ultratb.py\", line 311, in wrapped\n",
      "    return f(*args, **kwargs)\n",
      "  File \"/anaconda3/lib/python3.6/site-packages/IPython/core/ultratb.py\", line 345, in _fixed_getinnerframes\n",
      "    records = fix_frame_records_filenames(inspect.getinnerframes(etb, context))\n",
      "  File \"/anaconda3/lib/python3.6/inspect.py\", line 1483, in getinnerframes\n",
      "    frameinfo = (tb.tb_frame,) + getframeinfo(tb, context)\n",
      "  File \"/anaconda3/lib/python3.6/inspect.py\", line 1441, in getframeinfo\n",
      "    filename = getsourcefile(frame) or getfile(frame)\n",
      "  File \"/anaconda3/lib/python3.6/inspect.py\", line 696, in getsourcefile\n",
      "    if getattr(getmodule(object, filename), '__loader__', None) is not None:\n",
      "  File \"/anaconda3/lib/python3.6/inspect.py\", line 725, in getmodule\n",
      "    file = getabsfile(object, _filename)\n",
      "  File \"/anaconda3/lib/python3.6/inspect.py\", line 709, in getabsfile\n",
      "    return os.path.normcase(os.path.abspath(_filename))\n",
      "  File \"/anaconda3/lib/python3.6/posixpath.py\", line 376, in abspath\n",
      "    cwd = os.getcwd()\n",
      "FileNotFoundError: [Errno 2] No such file or directory\n"
     ]
    },
    {
     "ename": "FileNotFoundError",
     "evalue": "File b'messidor_features.txt' does not exist",
     "output_type": "error",
     "traceback": [
      "\u001b[0;31m---------------------------------------------------------------------------\u001b[0m"
     ]
    }
   ],
   "source": [
    "# Read the data from csv file\n",
    "col_names = []\n",
    "for i in range(20):\n",
    "    if i == 0:\n",
    "        col_names.append('quality')\n",
    "    if i == 1:\n",
    "        col_names.append('prescreen')\n",
    "    if i >= 2 and i <= 7:\n",
    "        col_names.append('ma' + str(i))\n",
    "    if i >= 8 and i <= 15:\n",
    "        col_names.append('exudate' + str(i))\n",
    "    if i == 16:\n",
    "        col_names.append('euDist')\n",
    "    if i == 17:\n",
    "        col_names.append('diameter')\n",
    "    if i == 18:\n",
    "        col_names.append('amfm_class')\n",
    "    if i == 19:\n",
    "        col_names.append('label')\n",
    "\n",
    "data = pd.read_csv(\"messidor_features.txt\", names = col_names)\n",
    "print(data.shape)\n",
    "data.head(10)"
   ]
  },
  {
   "cell_type": "markdown",
   "metadata": {},
   "source": [
    "### 1. Data preprocessing  & dimensionality reduction with PCA"
   ]
  },
  {
   "cell_type": "markdown",
   "metadata": {},
   "source": [
    "Q1. Separate the feature columns from the class label column. You should end up with two separate data frames (or two lists, or two numpy arrays) - one that contains all of the feature values and one that contains the class labels."
   ]
  },
  {
   "cell_type": "code",
   "execution_count": 20,
   "metadata": {},
   "outputs": [
    {
     "name": "stdout",
     "output_type": "stream",
     "text": [
      "   quality  prescreen  ma2  ma3  ma4  ma5  ma6  ma7   exudate8   exudate9  \\\n",
      "0        1          1   22   22   22   19   18   14  49.895756  17.775994   \n",
      "1        1          1   24   24   22   18   16   13  57.709936  23.799994   \n",
      "2        1          1   62   60   59   54   47   33  55.831441  27.993933   \n",
      "3        1          1   55   53   53   50   43   31  40.467228  18.445954   \n",
      "4        1          1   44   44   44   41   39   27  18.026254   8.570709   \n",
      "\n",
      "   exudate10  exudate11  exudate12  exudate13  exudate14  exudate15    euDist  \\\n",
      "0   5.270920   0.771761   0.018632   0.006864   0.003923   0.003923  0.486903   \n",
      "1   3.325423   0.234185   0.003903   0.003903   0.003903   0.003903  0.520908   \n",
      "2  12.687485   4.852282   1.393889   0.373252   0.041817   0.007744  0.530904   \n",
      "3   9.118901   3.079428   0.840261   0.272434   0.007653   0.001531  0.483284   \n",
      "4   0.410381   0.000000   0.000000   0.000000   0.000000   0.000000  0.475935   \n",
      "\n",
      "   diameter  amfm_class  \n",
      "0  0.100025           1  \n",
      "1  0.144414           0  \n",
      "2  0.128548           0  \n",
      "3  0.114790           0  \n",
      "4  0.123572           0  \n",
      "0    0\n",
      "1    0\n",
      "2    1\n",
      "3    0\n",
      "4    1\n",
      "Name: label, dtype: int64\n"
     ]
    }
   ],
   "source": [
    "# your code goes here\n",
    "#print(data[\"label\"])\n",
    "x = data.drop(\"label\",axis =1)\n",
    "y = data.loc[:,\"label\"] \n",
    "print(x.head())\n",
    "print(y.head())"
   ]
  },
  {
   "cell_type": "markdown",
   "metadata": {},
   "source": [
    "Q2. Use `sklearn.preprocessing.StandardScaler` to standardize the dataset’s features (mean = 0 and variance = 1). Only standardize the the features, not the class labels! This will be required for running the principal component analysis (PCA) dimensionality reduction later. Note that `StandardScaler` returns a numpy array."
   ]
  },
  {
   "cell_type": "code",
   "execution_count": 21,
   "metadata": {},
   "outputs": [
    {
     "name": "stdout",
     "output_type": "stream",
     "text": [
      "[[ 0.05905386  0.2982129  -0.6414863  ... -1.29476283 -0.46865568\n",
      "   1.40504812]\n",
      " [ 0.05905386  0.2982129  -0.56339113 ... -0.08216786  2.00605415\n",
      "  -0.7117194 ]\n",
      " [ 0.05905386  0.2982129   0.92041699 ...  0.27428264  1.1215164\n",
      "  -0.7117194 ]\n",
      " ...\n",
      " [ 0.05905386 -3.35330894  0.41279842 ...  1.33436273  1.19371332\n",
      "  -0.7117194 ]\n",
      " [ 0.05905386  0.2982129   0.0223226  ... -1.32796165 -0.09707846\n",
      "   1.40504812]\n",
      " [ 0.05905386  0.2982129  -1.22720003 ...  1.17603538 -1.08570243\n",
      "  -0.7117194 ]]\n"
     ]
    },
    {
     "data": {
      "text/html": [
       "<div>\n",
       "<style scoped>\n",
       "    .dataframe tbody tr th:only-of-type {\n",
       "        vertical-align: middle;\n",
       "    }\n",
       "\n",
       "    .dataframe tbody tr th {\n",
       "        vertical-align: top;\n",
       "    }\n",
       "\n",
       "    .dataframe thead th {\n",
       "        text-align: right;\n",
       "    }\n",
       "</style>\n",
       "<table border=\"1\" class=\"dataframe\">\n",
       "  <thead>\n",
       "    <tr style=\"text-align: right;\">\n",
       "      <th></th>\n",
       "      <th>quality</th>\n",
       "      <th>prescreen</th>\n",
       "      <th>ma2</th>\n",
       "      <th>ma3</th>\n",
       "      <th>ma4</th>\n",
       "      <th>ma5</th>\n",
       "      <th>ma6</th>\n",
       "      <th>ma7</th>\n",
       "      <th>exudate8</th>\n",
       "      <th>exudate9</th>\n",
       "      <th>exudate10</th>\n",
       "      <th>exudate11</th>\n",
       "      <th>exudate12</th>\n",
       "      <th>exudate13</th>\n",
       "      <th>exudate14</th>\n",
       "      <th>exudate15</th>\n",
       "      <th>euDist</th>\n",
       "      <th>diameter</th>\n",
       "      <th>amfm_class</th>\n",
       "      <th>label</th>\n",
       "    </tr>\n",
       "  </thead>\n",
       "  <tbody>\n",
       "    <tr>\n",
       "      <th>0</th>\n",
       "      <td>0.059054</td>\n",
       "      <td>0.298213</td>\n",
       "      <td>-0.641486</td>\n",
       "      <td>-0.618782</td>\n",
       "      <td>-0.576463</td>\n",
       "      <td>-0.630029</td>\n",
       "      <td>-0.551116</td>\n",
       "      <td>-0.473745</td>\n",
       "      <td>-0.242917</td>\n",
       "      <td>-0.246003</td>\n",
       "      <td>-0.296966</td>\n",
       "      <td>-0.271509</td>\n",
       "      <td>-0.218324</td>\n",
       "      <td>-0.194409</td>\n",
       "      <td>-0.205124</td>\n",
       "      <td>-0.186169</td>\n",
       "      <td>-1.294763</td>\n",
       "      <td>-0.468656</td>\n",
       "      <td>1.405048</td>\n",
       "      <td>0</td>\n",
       "    </tr>\n",
       "    <tr>\n",
       "      <th>1</th>\n",
       "      <td>0.059054</td>\n",
       "      <td>0.298213</td>\n",
       "      <td>-0.563391</td>\n",
       "      <td>-0.535778</td>\n",
       "      <td>-0.576463</td>\n",
       "      <td>-0.677410</td>\n",
       "      <td>-0.653676</td>\n",
       "      <td>-0.539992</td>\n",
       "      <td>-0.109250</td>\n",
       "      <td>0.032972</td>\n",
       "      <td>-0.465224</td>\n",
       "      <td>-0.408593</td>\n",
       "      <td>-0.224256</td>\n",
       "      <td>-0.197212</td>\n",
       "      <td>-0.205175</td>\n",
       "      <td>-0.186281</td>\n",
       "      <td>-0.082168</td>\n",
       "      <td>2.006054</td>\n",
       "      <td>-0.711719</td>\n",
       "      <td>0</td>\n",
       "    </tr>\n",
       "    <tr>\n",
       "      <th>2</th>\n",
       "      <td>0.059054</td>\n",
       "      <td>0.298213</td>\n",
       "      <td>0.920417</td>\n",
       "      <td>0.958299</td>\n",
       "      <td>1.046665</td>\n",
       "      <td>1.028299</td>\n",
       "      <td>0.936006</td>\n",
       "      <td>0.784951</td>\n",
       "      <td>-0.141383</td>\n",
       "      <td>0.227196</td>\n",
       "      <td>0.344463</td>\n",
       "      <td>0.769037</td>\n",
       "      <td>0.335538</td>\n",
       "      <td>0.152330</td>\n",
       "      <td>-0.110043</td>\n",
       "      <td>-0.164808</td>\n",
       "      <td>0.274283</td>\n",
       "      <td>1.121516</td>\n",
       "      <td>-0.711719</td>\n",
       "      <td>1</td>\n",
       "    </tr>\n",
       "    <tr>\n",
       "      <th>3</th>\n",
       "      <td>0.059054</td>\n",
       "      <td>0.298213</td>\n",
       "      <td>0.647084</td>\n",
       "      <td>0.667784</td>\n",
       "      <td>0.783456</td>\n",
       "      <td>0.838776</td>\n",
       "      <td>0.730886</td>\n",
       "      <td>0.652456</td>\n",
       "      <td>-0.404199</td>\n",
       "      <td>-0.214977</td>\n",
       "      <td>0.035830</td>\n",
       "      <td>0.316953</td>\n",
       "      <td>0.112573</td>\n",
       "      <td>0.056919</td>\n",
       "      <td>-0.195765</td>\n",
       "      <td>-0.199541</td>\n",
       "      <td>-1.423814</td>\n",
       "      <td>0.354501</td>\n",
       "      <td>-0.711719</td>\n",
       "      <td>0</td>\n",
       "    </tr>\n",
       "    <tr>\n",
       "      <th>4</th>\n",
       "      <td>0.059054</td>\n",
       "      <td>0.298213</td>\n",
       "      <td>0.217561</td>\n",
       "      <td>0.294265</td>\n",
       "      <td>0.388641</td>\n",
       "      <td>0.412349</td>\n",
       "      <td>0.525766</td>\n",
       "      <td>0.387468</td>\n",
       "      <td>-0.788069</td>\n",
       "      <td>-0.672306</td>\n",
       "      <td>-0.717335</td>\n",
       "      <td>-0.468311</td>\n",
       "      <td>-0.225828</td>\n",
       "      <td>-0.200905</td>\n",
       "      <td>-0.214968</td>\n",
       "      <td>-0.208100</td>\n",
       "      <td>-1.685874</td>\n",
       "      <td>0.844102</td>\n",
       "      <td>-0.711719</td>\n",
       "      <td>1</td>\n",
       "    </tr>\n",
       "  </tbody>\n",
       "</table>\n",
       "</div>"
      ],
      "text/plain": [
       "    quality  prescreen       ma2       ma3       ma4       ma5       ma6  \\\n",
       "0  0.059054   0.298213 -0.641486 -0.618782 -0.576463 -0.630029 -0.551116   \n",
       "1  0.059054   0.298213 -0.563391 -0.535778 -0.576463 -0.677410 -0.653676   \n",
       "2  0.059054   0.298213  0.920417  0.958299  1.046665  1.028299  0.936006   \n",
       "3  0.059054   0.298213  0.647084  0.667784  0.783456  0.838776  0.730886   \n",
       "4  0.059054   0.298213  0.217561  0.294265  0.388641  0.412349  0.525766   \n",
       "\n",
       "        ma7  exudate8  exudate9  exudate10  exudate11  exudate12  exudate13  \\\n",
       "0 -0.473745 -0.242917 -0.246003  -0.296966  -0.271509  -0.218324  -0.194409   \n",
       "1 -0.539992 -0.109250  0.032972  -0.465224  -0.408593  -0.224256  -0.197212   \n",
       "2  0.784951 -0.141383  0.227196   0.344463   0.769037   0.335538   0.152330   \n",
       "3  0.652456 -0.404199 -0.214977   0.035830   0.316953   0.112573   0.056919   \n",
       "4  0.387468 -0.788069 -0.672306  -0.717335  -0.468311  -0.225828  -0.200905   \n",
       "\n",
       "   exudate14  exudate15    euDist  diameter  amfm_class  label  \n",
       "0  -0.205124  -0.186169 -1.294763 -0.468656    1.405048      0  \n",
       "1  -0.205175  -0.186281 -0.082168  2.006054   -0.711719      0  \n",
       "2  -0.110043  -0.164808  0.274283  1.121516   -0.711719      1  \n",
       "3  -0.195765  -0.199541 -1.423814  0.354501   -0.711719      0  \n",
       "4  -0.214968  -0.208100 -1.685874  0.844102   -0.711719      1  "
      ]
     },
     "execution_count": 21,
     "metadata": {},
     "output_type": "execute_result"
    }
   ],
   "source": [
    "# your code goes here\n",
    "scaler = StandardScaler()\n",
    "std_features = scaler.fit_transform(x)\n",
    "print(std_features)\n",
    "\n",
    "#create a new table with standardized data and labels\n",
    "columns = list(x.columns.values)\n",
    "df = pd.DataFrame(std_features,columns = columns)\n",
    "new_data = df.join(y)\n",
    "new_data.head()"
   ]
  },
  {
   "cell_type": "markdown",
   "metadata": {},
   "source": [
    "Q3 . Split your dataset into training and test sets (80% - 20% split). Use `sklearn.model_selection.train_test_split` to help you in this task. You should be working with your standardized features from here forward. Display how many records are in the training set and how many are in the test set."
   ]
  },
  {
   "cell_type": "code",
   "execution_count": 22,
   "metadata": {},
   "outputs": [
    {
     "name": "stdout",
     "output_type": "stream",
     "text": [
      "\n",
      "\n",
      "train features length is 920\n",
      "[[ 0.05905386  0.2982129  -1.11005728 ...  0.14166566 -0.73988196\n",
      "  -0.7117194 ]\n",
      " [ 0.05905386  0.2982129  -0.6414863  ... -0.60810708  0.80736222\n",
      "   1.40504812]\n",
      " [ 0.05905386  0.2982129  -0.87577179 ...  0.79736912 -0.00514586\n",
      "   1.40504812]\n",
      " ...\n",
      " [ 0.05905386  0.2982129   0.84232182 ...  0.02434651  1.34106195\n",
      "  -0.7117194 ]\n",
      " [ 0.05905386  0.2982129   0.41279842 ... -0.23949675 -0.52173017\n",
      "  -0.7117194 ]\n",
      " [ 0.05905386  0.2982129  -0.05577257 ... -1.60549809  0.13166592\n",
      "  -0.7117194 ]]\n",
      "\n",
      "\n",
      "test_features length is  231\n",
      "[[ 0.05905386  0.2982129  -1.11005728 ...  0.14166566 -0.73988196\n",
      "  -0.7117194 ]\n",
      " [ 0.05905386  0.2982129  -0.6414863  ... -0.60810708  0.80736222\n",
      "   1.40504812]\n",
      " [ 0.05905386  0.2982129  -0.87577179 ...  0.79736912 -0.00514586\n",
      "   1.40504812]\n",
      " ...\n",
      " [ 0.05905386  0.2982129   0.84232182 ...  0.02434651  1.34106195\n",
      "  -0.7117194 ]\n",
      " [ 0.05905386  0.2982129   0.41279842 ... -0.23949675 -0.52173017\n",
      "  -0.7117194 ]\n",
      " [ 0.05905386  0.2982129  -0.05577257 ... -1.60549809  0.13166592\n",
      "  -0.7117194 ]]\n"
     ]
    }
   ],
   "source": [
    "# your code goes here\n",
    "train_features, test_features, train_label, test_label  = train_test_split(std_features,y, train_size = 0.8)\n",
    "print(\"\\n\")\n",
    "print(\"train features length is\", len(train_features))\n",
    "print(train_features)\n",
    "print(\"\\n\")\n",
    "print(\"test_features length is \",len(test_features))\n",
    "print(train_features)"
   ]
  },
  {
   "cell_type": "markdown",
   "metadata": {},
   "source": [
    "Q4. PCA is affected by the scale of the features that is why it is important to standardize the dataset first. The principle components generated by PCA are sensitive to the shape of the data in d-dimensional space. \n",
    "* Carry out a principal components analysis using `sklearn.decomposition.PCA` Note that you are fitting PCA on the **training set** only (NOT the test set).\n",
    "* Use the `pca.explained_variance_ratio_` field to determine how many principal components are needed so that 95% variance is retained. \n",
    "* Reduce the PCA-transformed-dataset to this number of columns and you'll use the resulting dataset for subsequent tasks.\n",
    "\n",
    "* Once the training set's dimensionality has been reduced with PCA, transform the **test set** to the principal component space that was created. (Do not fit a new PCA. Use the same one that was created with the training set.)"
   ]
  },
  {
   "cell_type": "code",
   "execution_count": 23,
   "metadata": {},
   "outputs": [
    {
     "name": "stdout",
     "output_type": "stream",
     "text": [
      "          0         1         2         3         4         5         6  \\\n",
      "0 -2.063653 -1.449128  1.459714 -0.721155 -0.537560 -0.710435 -0.744503   \n",
      "1 -2.856053  1.580877 -2.782294  1.026801 -0.133230  0.679909  0.177250   \n",
      "2 -2.283809 -0.578248 -0.064578 -0.716522  0.064683  0.774331  0.658177   \n",
      "3  3.967881 -0.714961  0.137227  0.091319 -0.699504 -0.879536  0.580610   \n",
      "4  2.501016 -1.068799  0.508441 -0.516080 -0.312433 -0.320911 -0.061848   \n",
      "\n",
      "          7         8         9  \n",
      "0  0.029282  0.067854 -0.107069  \n",
      "1 -0.065264 -0.209181 -1.365485  \n",
      "2 -0.111982  0.281289 -0.519497  \n",
      "3 -0.029598 -0.088080  0.316492  \n",
      "4  0.015689  0.186533 -0.008338  \n",
      "          0         1         2         3         4         5         6  \\\n",
      "0 -2.063653 -1.449128  1.459714 -0.721155 -0.537560 -0.710435 -0.744503   \n",
      "1 -2.856053  1.580877 -2.782294  1.026801 -0.133230  0.679909  0.177250   \n",
      "2 -2.283809 -0.578248 -0.064578 -0.716522  0.064683  0.774331  0.658177   \n",
      "3  3.967881 -0.714961  0.137227  0.091319 -0.699504 -0.879536  0.580610   \n",
      "4  2.501016 -1.068799  0.508441 -0.516080 -0.312433 -0.320911 -0.061848   \n",
      "\n",
      "          7         8         9  label  \n",
      "0  0.029282  0.067854 -0.107069      0  \n",
      "1 -0.065264 -0.209181 -1.365485      0  \n",
      "2 -0.111982  0.281289 -0.519497      1  \n",
      "3 -0.029598 -0.088080  0.316492      0  \n",
      "4  0.015689  0.186533 -0.008338      1  \n",
      "9\n",
      "[0.30500754 0.22956431 0.13628397 0.09114848 0.0635401  0.05357686\n",
      " 0.03926662 0.03121947 0.02479324]\n"
     ]
    }
   ],
   "source": [
    "# your code goes here\n",
    "from sklearn.decomposition import PCA\n",
    "#find the number of raduction\n",
    "pca = PCA(n_components = 10)\n",
    "pca_features = pca.fit_transform(train_features)\n",
    "pcadf = pd.DataFrame(data = pca_features)\n",
    "print(pcadf.head())\n",
    "#get the final database\n",
    "finalDf = pd.concat([pcadf, data[['label']]], axis = 1)\n",
    "print(finalDf.head())\n",
    "#get a pca looking for only 95% variance for components are retained\n",
    "pca = PCA(.95)\n",
    "#fit only the test_features\n",
    "\n",
    "pca.fit(test_features)\n",
    "print(pca.n_components_)\n",
    "print(pca.explained_variance_ratio_)\n",
    "#transform test and train\n",
    "test_features = pca.transform(test_features)\n",
    "train_features = pca.transform(train_features)\n"
   ]
  },
  {
   "cell_type": "code",
   "execution_count": 24,
   "metadata": {},
   "outputs": [
    {
     "data": {
      "text/plain": [
       "0.6493506493506493"
      ]
     },
     "execution_count": 24,
     "metadata": {},
     "output_type": "execute_result"
    }
   ],
   "source": [
    "from sklearn.linear_model import LogisticRegression\n",
    "# all parameters not specified are set to their defaults\n",
    "# default solver is incredibly slow which is why it was changed to 'lbfgs'\n",
    "logisticRegr = LogisticRegression(solver = 'lbfgs')\n",
    "logisticRegr.fit(train_features, train_label)\n",
    "logisticRegr.score(test_features, test_label)\n"
   ]
  },
  {
   "cell_type": "markdown",
   "metadata": {},
   "source": [
    "### 2. Training Decision Trees in `scikit-learn`"
   ]
  },
  {
   "cell_type": "markdown",
   "metadata": {},
   "source": [
    "Q5. Use `sklearn.tree.DecisionTreeClassifier` to fit a decision tree classifier on the training set. Use entropy as the split criterion. "
   ]
  },
  {
   "cell_type": "code",
   "execution_count": 25,
   "metadata": {
    "scrolled": true
   },
   "outputs": [
    {
     "data": {
      "text/plain": [
       "DecisionTreeClassifier(class_weight=None, criterion='entropy', max_depth=None,\n",
       "            max_features=None, max_leaf_nodes=None,\n",
       "            min_impurity_decrease=0.0, min_impurity_split=None,\n",
       "            min_samples_leaf=1, min_samples_split=2,\n",
       "            min_weight_fraction_leaf=0.0, presort=False, random_state=None,\n",
       "            splitter='best')"
      ]
     },
     "execution_count": 25,
     "metadata": {},
     "output_type": "execute_result"
    }
   ],
   "source": [
    "from sklearn.tree import DecisionTreeClassifier\n",
    "\n",
    "# your code goes here\n",
    "clf = DecisionTreeClassifier(criterion = \"entropy\")\n",
    "clf.fit(train_features,train_label)"
   ]
  },
  {
   "cell_type": "markdown",
   "metadata": {},
   "source": [
    "Q6. Now that the tree has been learned from the training data, we can run the test data through and predict classes for our test data. Use the `predict` method of `DecisionTreeClassifier` to classify the test data. Then use `sklearn.metrics.accuracy_score` to print out the accuracy of the classifier on the test set."
   ]
  },
  {
   "cell_type": "code",
   "execution_count": 26,
   "metadata": {},
   "outputs": [
    {
     "data": {
      "text/plain": [
       "0.6320346320346321"
      ]
     },
     "execution_count": 26,
     "metadata": {},
     "output_type": "execute_result"
    }
   ],
   "source": [
    "# your code goes here\n",
    "from sklearn.metrics import accuracy_score\n",
    "\n",
    "#return y shape\n",
    "y_predict = clf.predict(test_features)\n",
    "accuracy_score(y_true = test_label ,y_pred = y_predict)\n"
   ]
  },
  {
   "cell_type": "markdown",
   "metadata": {},
   "source": [
    "Q7. Note that the DecisionTree classifier has many parameters that can be set. Try tweaking parameters like split criterion, max_depth, min_impurity_decrease, min_samples_leaf, min_samples_split, etc. to see how they affect accuracy."
   ]
  },
  {
   "cell_type": "code",
   "execution_count": 27,
   "metadata": {},
   "outputs": [
    {
     "name": "stdout",
     "output_type": "stream",
     "text": [
      "0.6320346320346321\n"
     ]
    }
   ],
   "source": [
    "# your code goes here\n",
    "# your code goes here\n",
    "clf2 = DecisionTreeClassifier(criterion = \"entropy\", max_depth=10, min_samples_leaf = 11)\n",
    "clf2.fit(train_features,train_label)\n",
    "#return y shape\n",
    "y_predict2 = clf2.predict(test_features)\n",
    "accuracy = accuracy_score(y_true = test_label ,y_pred = y_predict2)\n",
    "print(accuracy)\n"
   ]
  },
  {
   "cell_type": "markdown",
   "metadata": {},
   "source": [
    "### 3. Using K-fold Cross Validation\n",
    "\n",
    "You have now built a decision tree and tested it's accuracy using the \"holdout\" method. But as discussed in class, this is not sufficient for estimating generalization accuracy. Instead, we should use Cross Validation to get a better estimate of accuracy. You will do that next."
   ]
  },
  {
   "cell_type": "markdown",
   "metadata": {},
   "source": [
    "Q7. Use `sklearn.model_selection.cross_val_score` to perform 10-fold cross validation on your decision tree. Report the accuracy of the model. For this step, revert back to using the data before it underwent PCA. So you want to use the standardized data that came out of Q2. "
   ]
  },
  {
   "cell_type": "code",
   "execution_count": 31,
   "metadata": {
    "scrolled": true
   },
   "outputs": [
    {
     "name": "stdout",
     "output_type": "stream",
     "text": [
      "[0.55172414 0.5826087  0.66956522 0.63478261 0.62608696 0.64347826\n",
      " 0.60869565 0.6        0.66956522 0.5826087 ]\n",
      "None\n"
     ]
    }
   ],
   "source": [
    "# your code goes here\n",
    "from sklearn.model_selection import cross_val_score\n",
    "\n",
    "accy = print(cross_val_score(clf, std_features,y=y, cv=10))\n",
    "print(accy)"
   ]
  },
  {
   "cell_type": "markdown",
   "metadata": {},
   "source": [
    "Q8. Now we want to tune our model to use the best parameters to avoid overfitting to our training data. Grid search is an approach to parameter tuning that will methodically build and evaluate a model for each combination of algorithm parameters specified in a grid. \n",
    "* Use `sklearn.model_selection.GridSearchCV` to find the best `max_depth`, `max_features`, and `min_samples_leaf` for your tree. Use 'accuracy' for the scoring criteria.\n",
    "* Try the values [5,10,15,20] for `max_depth` and `min_samples_leaf`. Try [5,10,15] for `max_features`. \n",
    "* Use a 5-fold cross validation. \n",
    "* Print out the best value for each of the tested parameters.\n",
    "* Print out the accuracy of the model with these best values."
   ]
  },
  {
   "cell_type": "code",
   "execution_count": 29,
   "metadata": {},
   "outputs": [
    {
     "name": "stdout",
     "output_type": "stream",
     "text": [
      "[[ 0.05905386  0.2982129  -0.6414863  ... -1.29476283 -0.46865568\n",
      "   1.40504812]\n",
      " [ 0.05905386  0.2982129  -0.56339113 ... -0.08216786  2.00605415\n",
      "  -0.7117194 ]\n",
      " [ 0.05905386  0.2982129   0.92041699 ...  0.27428264  1.1215164\n",
      "  -0.7117194 ]\n",
      " ...\n",
      " [ 0.05905386 -3.35330894  0.41279842 ...  1.33436273  1.19371332\n",
      "  -0.7117194 ]\n",
      " [ 0.05905386  0.2982129   0.0223226  ... -1.32796165 -0.09707846\n",
      "   1.40504812]\n",
      " [ 0.05905386  0.2982129  -1.22720003 ...  1.17603538 -1.08570243\n",
      "  -0.7117194 ]]\n",
      "{'max_depth': 5, 'max_features': 10, 'min_samples_leaf': 15}\n",
      "0.6455256298870548\n"
     ]
    }
   ],
   "source": [
    "# your code goes here\n",
    "from sklearn.model_selection import GridSearchCV\n",
    "# {'kernel':('linear', 'rbf'), 'C':[1, 10]}\n",
    "param = {'max_depth':[5,10,15,20],'min_samples_leaf':[5,10,15,20],'max_features':[5,10,15]}\n",
    "print(std_features)\n",
    "grid = GridSearchCV(clf, param, scoring= accy ,cv=5)\n",
    "grid.fit(std_features,y)\n",
    "#grid.cv_results_\n",
    "print(grid.best_params_)\n",
    "print(grid.best_score_)"
   ]
  },
  {
   "cell_type": "markdown",
   "metadata": {},
   "source": [
    "Q9. To perform the nested cross-validation that we discussed in class, you'll now need to pass the `GridSearchCV` into a `cross_val_score`. \n",
    "\n",
    "What this does is: the `cross_val_score` splits the data in to train and test sets for the first fold, and it passes the train set into `GridSearchCV`. `GridSearchCV` then splits that set into train and validation sets for k number of folds (the inner CV loop). The hyper-parameters for which the average score over all inner iterations is best, is reported as the `best_params_`, `best_score_`, and `best_estimator_`(best decision tree). This best decision tree is then evaluated with the test set from the `cross_val_score` (the outer CV loop). And this whole thing is repeated for the remaining k folds of the `cross_val_score` (the outer CV loop). \n",
    "\n",
    "That is a lot of explanation for a very complex (but IMPORTANT) process, which can all be performed with a single line of code!\n",
    "\n",
    "Be patient for this one to run. The nested cross-validation loop can take some time. An asterisk [\\*] next to the cell indicates that it is still running.\n",
    "\n",
    "Print the accuracy of your tuned, cross-validated model. This is the official accuracy that you would report for your model."
   ]
  },
  {
   "cell_type": "code",
   "execution_count": 30,
   "metadata": {
    "scrolled": true
   },
   "outputs": [
    {
     "name": "stdout",
     "output_type": "stream",
     "text": [
      "[0.69827586 0.57391304 0.62608696 0.55652174 0.66956522 0.72173913\n",
      " 0.62608696 0.5826087  0.62608696 0.60869565]\n"
     ]
    }
   ],
   "source": [
    "# your code goes here\n",
    "print(cross_val_score(grid,std_features,y=y, cv=10))"
   ]
  },
  {
   "cell_type": "markdown",
   "metadata": {},
   "source": [
    "Q10. Our accuracy rate isn't very good. We wouldn't want to use this model in the real world to actually diagnose patients because it is wrong about 40% of the time! What can we do to improve the accuracy of the model? Answer as a comment:"
   ]
  },
  {
   "cell_type": "code",
   "execution_count": 36,
   "metadata": {},
   "outputs": [
    {
     "data": {
      "text/plain": [
       "'\\nyour answer goes here \\n'"
      ]
     },
     "execution_count": 36,
     "metadata": {},
     "output_type": "execute_result"
    }
   ],
   "source": [
    "'''\n",
    "Improving the accuracy of the model would require more data to distinguish form. \n",
    "This could also help the missing values or filling the missing values and removing\n",
    "outlier values would improve the model. \n",
    "'''"
   ]
  },
  {
   "cell_type": "code",
   "execution_count": null,
   "metadata": {},
   "outputs": [],
   "source": []
  }
 ],
 "metadata": {
  "kernelspec": {
   "display_name": "Python 3",
   "language": "python",
   "name": "python3"
  },
  "language_info": {
   "codemirror_mode": {
    "name": "ipython",
    "version": 3
   },
   "file_extension": ".py",
   "mimetype": "text/x-python",
   "name": "python",
   "nbconvert_exporter": "python",
   "pygments_lexer": "ipython3",
   "version": "3.6.5"
  }
 },
 "nbformat": 4,
 "nbformat_minor": 2
}
